{
 "cells": [
  {
   "cell_type": "markdown",
   "id": "eee6ca3b",
   "metadata": {},
   "source": [
    "# Very Random Coding Practices"
   ]
  },
  {
   "cell_type": "markdown",
   "id": "ef58dd83",
   "metadata": {},
   "source": [
    "## Design Questions"
   ]
  },
  {
   "cell_type": "markdown",
   "id": "0bae443a",
   "metadata": {},
   "source": [
    "### Efficiently store and calculate dot products between embeddings\n",
    "<p></p>\n",
    "- [leetcode source](https://leetcode.com/discuss/interview-question/286446/facebook-interview-question-representation-and-dot-product-of-two-vectors)\n",
    "\n",
    "    A: [1, 1, 4, 4, 4, 4, 7, 7, 7, 7, 7, 2, 2, 2, 2, 2, 2, 2, 2, 2, 2]\n",
    "\n",
    "    B: [2, 2, 5, 5, 5, 5, 5, 5, 5, 3, 3, 3, 3, 3, 3, 3, 3, 3, 3, 3, 3]"
   ]
  },
  {
   "cell_type": "code",
   "execution_count": null,
   "id": "834ec235",
   "metadata": {},
   "outputs": [],
   "source": [
    "def compress_vector(A):\n",
    "    if len(A) == 0:\n",
    "        return []\n",
    "    \n",
    "    compress_A = [[A[0], 1]] # [value, count]\n",
    "    for a in A[1:]:\n",
    "        if a == compress_A[-1][0]:\n",
    "            compress_A[-1][1] += 1\n",
    "        else:\n",
    "            compress_A.append([a, 1])\n",
    "    return compress_A\n",
    "\n",
    "def calculate_dot_product(A, B):\n",
    "    \n",
    "    compress_A = compress_vector(A)\n",
    "    compress_B = compress_vector(B)\n",
    "    \n",
    "    i, j, dot_prod = 0, 0, 0\n",
    "    len_A, len_B = len(compress_A), len(compress_B)\n",
    "    while i < len_A and j < len_B:\n",
    "        a, b = compress_A[i], compress_B[j]\n",
    "        common = min(a[1], b[1])\n",
    "        dot_prod += a[0] * b[0] * common\n",
    "        \n",
    "        a[1] -= common\n",
    "        b[1] -= common\n",
    "        \n",
    "        if a[1] == 0:\n",
    "            i += 1\n",
    "        if b[1] == 0:\n",
    "            j += 1\n",
    "    return dot_prod\n",
    "\n",
    "\n",
    "A = [1, 1, 4, 4, 4, 4, 7, 7, 7, 7, 7, 2, 2, 2, 2, 2, 2, 2, 2, 2, 2]\n",
    "B = [2, 2, 5, 5, 5, 5, 5, 5, 5, 3, 3, 3, 3, 3, 3, 3, 3, 3, 3, 3, 3]\n",
    "\n",
    "assert calculate_dot_product(A, B) == sum([a * b for a, b in zip(A, B)])"
   ]
  },
  {
   "cell_type": "markdown",
   "id": "bfe59083",
   "metadata": {},
   "source": [
    "### Build K-means from scratch using numpy"
   ]
  },
  {
   "cell_type": "code",
   "execution_count": null,
   "id": "deb1ec0c",
   "metadata": {
    "scrolled": true
   },
   "outputs": [],
   "source": [
    "import numpy as np\n",
    "import matplotlib.pyplot as plt\n",
    "\n",
    "class kMeansNumpy:\n",
    "    def __init__(self, k, dim=2):\n",
    "        self.k = k\n",
    "        self.centriod = np.zeros((dim, k))\n",
    "    \n",
    "    def fit(self, X, iteration=2):\n",
    "        self.X = X\n",
    "        self.cluster = np.zeros(len(self.X))\n",
    "        self._initialize()\n",
    "        fig, axs = plt.subplots(iteration+1,figsize=(5,15))\n",
    "        self._plot(axs[0])\n",
    "        \n",
    "        plt_counter = 0\n",
    "        while iteration >= 0:\n",
    "            self._update_centriod()\n",
    "            self._assign_cluster()\n",
    "            self._plot(axs[plt_counter])\n",
    "            plt_counter += 1\n",
    "            iteration -= 1\n",
    "        \n",
    "    def _assign_cluster(self):\n",
    "        for i, x in enumerate(self.X):\n",
    "            distance = []\n",
    "            for c in self.centriod:\n",
    "                distance.append(self._get_distance(x, c))\n",
    "            self.cluster[i] = np.argmin(distance)\n",
    "        print('updated cluster is {}'.format(self.cluster))\n",
    "        \n",
    "    def _update_centriod(self):\n",
    "        for c in range(self.k):\n",
    "            X = self.X[self.cluster == c,]\n",
    "            self.centriod[c] = np.mean(X,axis=0)\n",
    "        print('updated cnetrioids are {}'.format(self.centriod))\n",
    "        \n",
    "    def _get_distance(self, x, y):\n",
    "        return np.linalg.norm(x-y)\n",
    "    \n",
    "    def _initialize(self):\n",
    "        m, _ = self.X.shape\n",
    "        initial_k = np.random.choice(m, self.k, replace=False)\n",
    "        self.centriod = self.X[initial_k,:]\n",
    "        print('initialized cnetrioids are {}'.format(self.centriod))\n",
    "        self._assign_cluster()\n",
    "        \n",
    "    def _plot(self, axis):\n",
    "        axis.scatter(x=self.X[:, 0], y=self.X[:, 1], c=self.cluster)\n",
    "        \n",
    "X = np.array([[2, 3], [4, 5], [7, 7], [2, 7], [10, 2], [12, 2], [3, 2], [-3, 9], [0, 8], [1, 7], [4, 9], [-4, -3]])\n",
    "\n",
    "classifier = kMeansNumpy(3)\n",
    "classifier.fit(X)"
   ]
  },
  {
   "cell_type": "markdown",
   "id": "be541d36",
   "metadata": {},
   "source": [
    "### Build K-means from scratch using PySpark"
   ]
  },
  {
   "cell_type": "code",
   "execution_count": null,
   "id": "c3ac87a7",
   "metadata": {},
   "outputs": [],
   "source": [
    "from pyspark.sql import SparkSession\n",
    "spark = SparkSession.builder.getOrCreate()\n",
    "spark"
   ]
  },
  {
   "cell_type": "code",
   "execution_count": null,
   "id": "5e6c1add",
   "metadata": {},
   "outputs": [],
   "source": [
    "class kMeansSpark:\n",
    "    def __init__(self, k):\n",
    "        self.k = k\n",
    "    \n",
    "    def _update_cluster(self):\n",
    "        pass\n",
    "    \n",
    "    def _assign_centriod(self):\n",
    "        pass\n",
    "    \n",
    "    def fit(self):\n",
    "        pass"
   ]
  },
  {
   "cell_type": "markdown",
   "id": "4d638db6",
   "metadata": {},
   "source": [
    "### Find k-closest points to origin\n",
    "- [leetcode source](https://leetcode.com/problems/k-closest-points-to-origin/)\n",
    "<p></p>\n",
    "- three solutions depending on problem scale: is $N$ very big? is $K$ big or small?\n",
    "<p></p>\n",
    "\n",
    "    a) use a priority queue to maintain a list of k points, $O(Nlog(k))$;\n",
    "    \n",
    "    b) apply sorting, $O(Nlog(N))$;\n",
    "    \n",
    "    c) apply kd tree, $O(Nlog(N))$ for the first time to generate the tree, search, insert, remove all takes $O(log(N))$.\n",
    "<p></p>\n",
    "- a good practice on heapq"
   ]
  },
  {
   "cell_type": "code",
   "execution_count": null,
   "id": "d17aaac4",
   "metadata": {},
   "outputs": [],
   "source": [
    "import heapq\n",
    "\n",
    "def find_k_closest_heap(points, k):\n",
    "    candidates = []\n",
    "    for x, y in points:\n",
    "        dist = - x*x - y*y\n",
    "        if len(candidates) == k:\n",
    "            heapq.heappushpop(candidates, (dist, x, y))\n",
    "        else:\n",
    "            heapq.heappush(candidates, (dist, x, y))\n",
    "    \n",
    "    return [[x, y] for dist, x, y in candidates]\n",
    "\n",
    "\n",
    "from scipy import spatial\n",
    "\n",
    "def find_k_closest_kd_tree(points, k):\n",
    "    kd_tree = spatial.KDTree(points)\n",
    "    distance, idx = kd_tree.query(x=[0, 0], k=k, p=2)\n",
    "    if k > 1:\n",
    "        return [point for i, point in enumerate(points) if i in idx]\n",
    "    else:\n",
    "        return [points[idx]]\n",
    "print(find_k_closest_heap([[3,3],[5,-1],[-2,4]], 2))\n",
    "print(find_k_closest_kd_tree([[3,3],[5,-1],[-2,4]], 2))"
   ]
  },
  {
   "cell_type": "markdown",
   "id": "3295275a",
   "metadata": {},
   "source": [
    "## Maths Questions"
   ]
  },
  {
   "cell_type": "markdown",
   "id": "c438f122",
   "metadata": {},
   "source": [
    "### Inverse a matrix from scratch\n",
    "1. loop over a focus_diagonal, e.g., 1,2,3;\n",
    "2. for each focus_diagonal, loop over the other rows, deduct the current_row scalar from it;\n",
    "3. list.copy() only copies this outter list, if it is a list of list, it doesn't copy the inner lists. copy.deepcopy() should be used instead."
   ]
  },
  {
   "cell_type": "code",
   "execution_count": null,
   "id": "d92ab4d6",
   "metadata": {},
   "outputs": [],
   "source": [
    "import numpy as np\n",
    "import copy\n",
    "\n",
    "def inverse_matrix(A):\n",
    "    \n",
    "    if not check_matrix_squareness(A):\n",
    "        return []\n",
    "    \n",
    "    n = len(A)\n",
    "    AM = copy.deepcopy(A)\n",
    "    I = get_identity_matrix(n)\n",
    "    row_index = list(range(n))\n",
    "        \n",
    "    for fd in range(n):\n",
    "        try: \n",
    "            fd_scalar = 1.0 / AM[fd][fd]\n",
    "        except ZeroDivisionError:\n",
    "            return []\n",
    "            \n",
    "        for j in range(n):\n",
    "            AM[fd][j] *= fd_scalar\n",
    "            I[fd][j] *= fd_scalar\n",
    "        \n",
    "        for i in row_index[:fd]+row_index[fd+1:]:\n",
    "            cr_scalar = AM[i][fd]\n",
    "            for j in range(n):\n",
    "                AM[i][j] = AM[i][j] - cr_scalar * AM[fd][j]\n",
    "                I[i][j] = I[i][j] - cr_scalar * I[fd][j]\n",
    "\n",
    "    return I\n",
    "\n",
    "def get_identity_matrix(n):\n",
    "    I = []\n",
    "    for i in range(n):\n",
    "        row = []\n",
    "        for j in range(n):\n",
    "            if i == j:\n",
    "                row.append(1)\n",
    "            else:\n",
    "                row.append(0)\n",
    "        I.append(row)\n",
    "    return I\n",
    "\n",
    "\n",
    "def check_matrix_squareness(A):\n",
    "    if len(A) == 0 or len(A[0]) == 0 or len(A) != len(A[0]):\n",
    "        return False\n",
    "    else:\n",
    "        return True\n",
    "    \n",
    "A = [[1,5,3], [4,5,6], [7,8,9]]\n",
    "\n",
    "print(inverse_matrix(A))\n",
    "print(np.linalg.inv(A))"
   ]
  },
  {
   "cell_type": "markdown",
   "id": "5b85255f",
   "metadata": {},
   "source": [
    "### Check if a matrix is full rank"
   ]
  },
  {
   "cell_type": "code",
   "execution_count": null,
   "id": "20d04a8a",
   "metadata": {},
   "outputs": [],
   "source": [
    "A = [[1,2,3], [2,4,6], [7,8,9]]\n",
    "if not inverse_matrix(A):\n",
    "    print(\"A is not full rank\")"
   ]
  },
  {
   "cell_type": "markdown",
   "id": "aeca2b0d",
   "metadata": {},
   "source": [
    "### Solve a polynomial equation"
   ]
  },
  {
   "cell_type": "code",
   "execution_count": null,
   "id": "ed7dd18d",
   "metadata": {},
   "outputs": [],
   "source": [
    "# use recursion"
   ]
  },
  {
   "cell_type": "markdown",
   "id": "6f56d080",
   "metadata": {},
   "source": [
    "## Statistics Questions"
   ]
  },
  {
   "cell_type": "markdown",
   "id": "e588adaa",
   "metadata": {},
   "source": [
    "### Write Batch Normalization from scratch"
   ]
  },
  {
   "cell_type": "code",
   "execution_count": null,
   "id": "0cd3db22",
   "metadata": {},
   "outputs": [],
   "source": [
    "import math\n",
    "\n",
    "def batch_norm_dense(layer: list, epsilon: float, ita: float, beta: float):\n",
    "    total = sum(layer)\n",
    "    mu = total / len(layer)\n",
    "    sigma = 0\n",
    "    for ele in layer:\n",
    "        sigma += (ele-mu)**2\n",
    "    sigma /= len(layer)\n",
    "    \n",
    "    output = []\n",
    "    for ele in layer:\n",
    "        norm_ele = (ele - mu) / math.sqrt(sigma**2 + epsilon)\n",
    "        output.append(ita * norm_ele + beta)\n",
    "    return output\n",
    "\n",
    "batch_norm_dense([1,2,3,4,5], 0.0001, 0.05, 0.3)"
   ]
  },
  {
   "cell_type": "markdown",
   "id": "907520f3",
   "metadata": {},
   "source": [
    "### Calculate precision, recall, AUC"
   ]
  },
  {
   "cell_type": "code",
   "execution_count": null,
   "id": "660de46a",
   "metadata": {},
   "outputs": [],
   "source": [
    "import matplotlib.pyplot as plt\n",
    "\n",
    "def get_metrics(pred, true, threshold=0.5):\n",
    "    pred_class = []\n",
    "    for ele in pred:\n",
    "        if ele >= threshold:\n",
    "            pred_class.append(1)\n",
    "        else:\n",
    "            pred_class.append(0)\n",
    "    \n",
    "    TP, FN = 0, 0\n",
    "    FP, TN = 0, 0\n",
    "    for p, t in zip(pred_class, true):\n",
    "        if t == 1:\n",
    "            if p == 1:\n",
    "                TP += 1\n",
    "            else:\n",
    "                FN += 1\n",
    "        else:\n",
    "            if p == 1:\n",
    "                FP += 1\n",
    "            else:\n",
    "                TN += 1\n",
    "    precision = TP / (TP + FP) if (TP+FP) else 1\n",
    "    recall = TP / (TP + FN) if (TP+FN) else 1\n",
    "    \n",
    "    return precision, recall\n",
    "\n",
    "def get_auc(pred, true):\n",
    "    auc_pair = []\n",
    "    plt.figure()\n",
    "    for i in range(1, 11):\n",
    "        auc_pair.append(get_metrics(pred, true, i/10))\n",
    "    \n",
    "    auc_pair.sort(key=lambda x: x[0])\n",
    "    plt.step(auc_pair[0], auc_pair[1])\n",
    "\n",
    "get_auc([0.7, 0.6, 0.3, 0.6, 0.1, 0.9], [1, 0, 0, 0, 1, 1])"
   ]
  },
  {
   "cell_type": "markdown",
   "id": "3547e0b5",
   "metadata": {},
   "source": [
    "## Algo Basics"
   ]
  },
  {
   "cell_type": "markdown",
   "id": "4d8b2310",
   "metadata": {},
   "source": [
    "### Sorting"
   ]
  },
  {
   "cell_type": "code",
   "execution_count": null,
   "id": "b3c2493c",
   "metadata": {},
   "outputs": [],
   "source": [
    "class Sort:\n",
    "    def __init__(self, nums):\n",
    "        self.nums = nums\n",
    "    \n",
    "    def do_quick_sort(self):\n",
    "        self.quick_sort(0, len(self.nums)-1)\n",
    "        return self.nums\n",
    "\n",
    "    \n",
    "    def partition(self, l, h):\n",
    "        pivot = self.nums[h]\n",
    "        pivot_i = l-1\n",
    "\n",
    "        for i in range(l, h):\n",
    "            if self.nums[i] < pivot:\n",
    "                pivot_i += 1\n",
    "                self.nums[pivot_i], self.nums[i] = self.nums[i], self.nums[pivot_i]\n",
    "                \n",
    "\n",
    "        self.nums[pivot_i+1], self.nums[h] = self.nums[h], self.nums[pivot_i+1]\n",
    "        return pivot_i+1\n",
    "\n",
    "\n",
    "    def quick_sort(self, l, h):\n",
    "        if l < h:\n",
    "            pivot_i = self.partition(l, h)\n",
    "            self.quick_sort(l, pivot_i-1)\n",
    "            self.quick_sort(pivot_i+1, h)\n",
    "\n",
    "\n",
    "\n",
    "Sort([4,9,1,6,7,982,6,3,1]).do_quick_sort()"
   ]
  },
  {
   "cell_type": "markdown",
   "id": "c33a64db",
   "metadata": {},
   "source": [
    "## Non-Leetcode Coding Questions"
   ]
  },
  {
   "cell_type": "markdown",
   "id": "380d4384",
   "metadata": {},
   "source": [
    "### Enumerate/Guess password combinations\n",
    "Given the length of password n, and a list of unique digits where each must appear at least once. Guess the password"
   ]
  },
  {
   "cell_type": "code",
   "execution_count": 28,
   "id": "03b1b13e",
   "metadata": {},
   "outputs": [
    {
     "name": "stdout",
     "output_type": "stream",
     "text": [
      "12312\n",
      "12312\n"
     ]
    }
   ],
   "source": [
    "import random\n",
    "\n",
    "def check(x):\n",
    "    return x == \"12312\"\n",
    "\n",
    "def guess_password_monte_carlo(n=5, digits=[1,2,3]):\n",
    "    counter = 0\n",
    "    cache = set()\n",
    "    while True:\n",
    "        counter += 1\n",
    "        guess = \"\"\n",
    "        for i in range(n):\n",
    "            guess += str(random.choice(digits))\n",
    "        if len(set(guess)) == len(digits) and guess not in cache:\n",
    "            if check(guess):\n",
    "                print(guess)\n",
    "                return\n",
    "            else:\n",
    "                cache.add(guess)\n",
    "\n",
    "def guess_password_backtrack(n=5, digits=[1,2,3]):\n",
    "    \n",
    "    def backtrack(path, unique_path):\n",
    "\n",
    "        # early stopping\n",
    "        if n - len(path) < len(digits) - len(unique_path):\n",
    "            return\n",
    "        \n",
    "        # termination\n",
    "        if len(path) == n:\n",
    "            if len(unique_path) == len(digits):\n",
    "                guess = \"\".join(path)\n",
    "                if check(guess):\n",
    "                    print(guess)\n",
    "            return\n",
    "        \n",
    "        # enumerate\n",
    "        for j in range(len(digits)):\n",
    "            path.append(str(digits[j]))\n",
    "            if str(digits[j]) in unique_path:\n",
    "                unique_path[str(digits[j])] += 1\n",
    "            else:\n",
    "                unique_path[str(digits[j])] = 1\n",
    "                \n",
    "            # backtrack\n",
    "            backtrack(path, unique_path)\n",
    "            \n",
    "            # revert\n",
    "            path.pop()\n",
    "            unique_path[str(digits[j])] -= 1\n",
    "            if unique_path[str(digits[j])] == 0:\n",
    "                del unique_path[str(digits[j])]\n",
    "\n",
    "    backtrack([], {})\n",
    "    \n",
    "\n",
    "    \n",
    "#         def backtrack(first = 1, curr = []):\n",
    "#             # if the combination is done\n",
    "#             if len(curr) == k:  \n",
    "#                 output.append(curr[:])\n",
    "#             for i in range(first, n + 1):\n",
    "#                 # add i into the current combination\n",
    "#                 curr.append(i)\n",
    "#                 # use next integers to complete the combination\n",
    "#                 backtrack(i + 1, curr)\n",
    "#                 # backtrack\n",
    "#                 curr.pop()\n",
    "\n",
    "guess_password_monte_carlo()\n",
    "guess_password_backtrack()\n"
   ]
  },
  {
   "cell_type": "markdown",
   "id": "c8657515",
   "metadata": {},
   "source": [
    "### Maze with Monsters \n",
    "A charcter walks from si, sj to ei, ej, return the shortest steps if possible.\n",
    "A 2D array with:\n",
    "\n",
    "0: empty space to walk through;\n",
    "\n",
    "1: a wall that can not be passed;\n",
    "\n",
    "6: a monster that reduces your health if you pass."
   ]
  },
  {
   "cell_type": "code",
   "execution_count": 30,
   "id": "ddc37936",
   "metadata": {},
   "outputs": [],
   "source": [
    "def get_shortest_steps(maze, h, si, sj, ei, ej):\n",
    "    pass"
   ]
  },
  {
   "cell_type": "markdown",
   "id": "db61cc3c",
   "metadata": {},
   "source": [
    "### Maximum Path Sum from Leaf Nodes"
   ]
  },
  {
   "cell_type": "code",
   "execution_count": 7,
   "id": "3cd8ac00",
   "metadata": {},
   "outputs": [
    {
     "name": "stdout",
     "output_type": "stream",
     "text": [
      "28\n"
     ]
    }
   ],
   "source": [
    "class TreeNode:\n",
    "    def __init__(self, val=0):\n",
    "        self.val = val\n",
    "        self.left = None\n",
    "        self.right = None\n",
    "\n",
    "n_n10 = TreeNode(-10)\n",
    "n_n3 = TreeNode(-3)\n",
    "n_20 = TreeNode(20)\n",
    "n_15 = TreeNode(15)\n",
    "n_n7 = TreeNode(-7)\n",
    "\n",
    "n_n10.left = n_n3\n",
    "n_n10.right = n_20\n",
    "n_20.left = n_15\n",
    "n_20.right = n_n7\n",
    "\n",
    "def getMaxSumfromLeaf(root):\n",
    "    if not root:\n",
    "        return 0\n",
    "    \n",
    "    res = float(\"-Inf\")\n",
    "    \n",
    "    def recursion(node):\n",
    "        \n",
    "        nonlocal res\n",
    "        \n",
    "        if not node:\n",
    "            return 0\n",
    "        \n",
    "        # becasue it is leaf-leaf, we have to preserve all sum from child even they are negative\n",
    "        left_sum = recursion(node.left)\n",
    "        right_sum = recursion(node.right)\n",
    "        \n",
    "        # only update when current node is in the middle\n",
    "        if node.left and node.right:\n",
    "            res = max(res, left_sum+right_sum+node.val)\n",
    "        \n",
    "        return max(left_sum, right_sum) + node.val\n",
    "    \n",
    "    recursion(root)\n",
    "    return res\n",
    "\n",
    "print(getMaxSumfromLeaf(n_n10))"
   ]
  },
  {
   "cell_type": "code",
   "execution_count": null,
   "id": "603fccc6",
   "metadata": {},
   "outputs": [],
   "source": []
  }
 ],
 "metadata": {
  "kernelspec": {
   "display_name": "Python 3",
   "language": "python",
   "name": "python3"
  },
  "language_info": {
   "codemirror_mode": {
    "name": "ipython",
    "version": 3
   },
   "file_extension": ".py",
   "mimetype": "text/x-python",
   "name": "python",
   "nbconvert_exporter": "python",
   "pygments_lexer": "ipython3",
   "version": "3.8.8"
  },
  "toc": {
   "base_numbering": 1,
   "nav_menu": {},
   "number_sections": true,
   "sideBar": true,
   "skip_h1_title": false,
   "title_cell": "Table of Contents",
   "title_sidebar": "Contents",
   "toc_cell": false,
   "toc_position": {},
   "toc_section_display": true,
   "toc_window_display": false
  },
  "varInspector": {
   "cols": {
    "lenName": 16,
    "lenType": 16,
    "lenVar": 40
   },
   "kernels_config": {
    "python": {
     "delete_cmd_postfix": "",
     "delete_cmd_prefix": "del ",
     "library": "var_list.py",
     "varRefreshCmd": "print(var_dic_list())"
    },
    "r": {
     "delete_cmd_postfix": ") ",
     "delete_cmd_prefix": "rm(",
     "library": "var_list.r",
     "varRefreshCmd": "cat(var_dic_list()) "
    }
   },
   "types_to_exclude": [
    "module",
    "function",
    "builtin_function_or_method",
    "instance",
    "_Feature"
   ],
   "window_display": false
  }
 },
 "nbformat": 4,
 "nbformat_minor": 5
}
