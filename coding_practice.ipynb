{
 "cells": [
  {
   "cell_type": "markdown",
   "id": "eee6ca3b",
   "metadata": {},
   "source": [
    "# Some coding practices\n",
    "Han Sun"
   ]
  },
  {
   "cell_type": "markdown",
   "id": "ef58dd83",
   "metadata": {},
   "source": [
    "## Design Questions"
   ]
  },
  {
   "cell_type": "markdown",
   "id": "0bae443a",
   "metadata": {},
   "source": [
    "### Efficiently store and calculate dot products between embeddings\n",
    "- this was asked during eBay interview\n",
    "<p></p>\n",
    "- [leetcode source](https://leetcode.com/discuss/interview-question/286446/facebook-interview-question-representation-and-dot-product-of-two-vectors)\n",
    "\n",
    "    A: [1, 1, 4, 4, 4, 4, 7, 7, 7, 7, 7, 2, 2, 2, 2, 2, 2, 2, 2, 2, 2]\n",
    "\n",
    "    B: [2, 2, 5, 5, 5, 5, 5, 5, 5, 3, 3, 3, 3, 3, 3, 3, 3, 3, 3, 3, 3]"
   ]
  },
  {
   "cell_type": "code",
   "execution_count": 10,
   "id": "834ec235",
   "metadata": {},
   "outputs": [],
   "source": [
    "def compress_vector(A):\n",
    "    if len(A) == 0:\n",
    "        return []\n",
    "    \n",
    "    compress_A = [[A[0], 1]] # [value, count]\n",
    "    for a in A[1:]:\n",
    "        if a == compress_A[-1][0]:\n",
    "            compress_A[-1][1] += 1\n",
    "        else:\n",
    "            compress_A.append([a, 1])\n",
    "    return compress_A\n",
    "\n",
    "def calculate_dot_product(A, B):\n",
    "    \n",
    "    compress_A = compress_vector(A)\n",
    "    compress_B = compress_vector(B)\n",
    "    \n",
    "    i, j, dot_prod = 0, 0, 0\n",
    "    len_A, len_B = len(compress_A), len(compress_B)\n",
    "    while i < len_A and j < len_B:\n",
    "        a, b = compress_A[i], compress_B[j]\n",
    "        common = min(a[1], b[1])\n",
    "        dot_prod += a[0] * b[0] * common\n",
    "        \n",
    "        a[1] -= common\n",
    "        b[1] -= common\n",
    "        \n",
    "        if a[1] == 0:\n",
    "            i += 1\n",
    "        if b[1] == 0:\n",
    "            j += 1\n",
    "    return dot_prod\n",
    "\n",
    "\n",
    "A = [1, 1, 4, 4, 4, 4, 7, 7, 7, 7, 7, 2, 2, 2, 2, 2, 2, 2, 2, 2, 2]\n",
    "B = [2, 2, 5, 5, 5, 5, 5, 5, 5, 3, 3, 3, 3, 3, 3, 3, 3, 3, 3, 3, 3]\n",
    "\n",
    "assert calculate_dot_product(A, B) == sum([a * b for a, b in zip(A, B)])"
   ]
  },
  {
   "cell_type": "markdown",
   "id": "bfe59083",
   "metadata": {},
   "source": [
    "### Build K-means from scratch using numpy"
   ]
  },
  {
   "cell_type": "code",
   "execution_count": 13,
   "id": "deb1ec0c",
   "metadata": {
    "scrolled": true
   },
   "outputs": [
    {
     "name": "stdout",
     "output_type": "stream",
     "text": [
      "initialized cnetrioids are [[ 4  5]\n",
      " [12  2]\n",
      " [ 2  3]]\n",
      "updated cluster is [2. 0. 0. 0. 1. 1. 2. 2. 0. 0. 0. 2.]\n",
      "updated cnetrioids are [[ 3  7]\n",
      " [11  2]\n",
      " [ 0  2]]\n",
      "updated cluster is [2. 0. 0. 0. 1. 1. 2. 0. 0. 0. 0. 2.]\n",
      "updated cnetrioids are [[ 2  7]\n",
      " [11  2]\n",
      " [ 0  0]]\n",
      "updated cluster is [2. 0. 0. 0. 1. 1. 2. 0. 0. 0. 0. 2.]\n",
      "updated cnetrioids are [[ 2  7]\n",
      " [11  2]\n",
      " [ 0  0]]\n",
      "updated cluster is [2. 0. 0. 0. 1. 1. 2. 0. 0. 0. 0. 2.]\n"
     ]
    },
    {
     "data": {
      "image/png": "[encoded data removed]",
      "text/plain": [
       "<Figure size 360x1080 with 3 Axes>"
      ]
     },
     "metadata": {
      "needs_background": "light"
     },
     "output_type": "display_data"
    }
   ],
   "source": [
    "import numpy as np\n",
    "import matplotlib.pyplot as plt\n",
    "\n",
    "class kMeansNumpy:\n",
    "    def __init__(self, k, dim=2):\n",
    "        self.k = k\n",
    "        self.centriod = np.zeros((dim, k))\n",
    "    \n",
    "    def fit(self, X, iteration=2):\n",
    "        self.X = X\n",
    "        self.cluster = np.zeros(len(self.X))\n",
    "        self._initialize()\n",
    "        fig, axs = plt.subplots(iteration+1,figsize=(5,15))\n",
    "        self._plot(axs[0])\n",
    "        \n",
    "        plt_counter = 0\n",
    "        while iteration >= 0:\n",
    "            self._update_centriod()\n",
    "            self._assign_cluster()\n",
    "            self._plot(axs[plt_counter])\n",
    "            plt_counter += 1\n",
    "            iteration -= 1\n",
    "        \n",
    "    def _assign_cluster(self):\n",
    "        for i, x in enumerate(self.X):\n",
    "            distance = []\n",
    "            for c in self.centriod:\n",
    "                distance.append(self._get_distance(x, c))\n",
    "            self.cluster[i] = np.argmin(distance)\n",
    "        print('updated cluster is {}'.format(self.cluster))\n",
    "        \n",
    "    def _update_centriod(self):\n",
    "        for c in range(self.k):\n",
    "            X = self.X[self.cluster == c,]\n",
    "            self.centriod[c] = np.mean(X,axis=0)\n",
    "        print('updated cnetrioids are {}'.format(self.centriod))\n",
    "        \n",
    "    def _get_distance(self, x, y):\n",
    "        return np.linalg.norm(x-y)\n",
    "    \n",
    "    def _initialize(self):\n",
    "        m, _ = self.X.shape\n",
    "        initial_k = np.random.choice(m, self.k, replace=False)\n",
    "        self.centriod = self.X[initial_k,:]\n",
    "        print('initialized cnetrioids are {}'.format(self.centriod))\n",
    "        self._assign_cluster()\n",
    "        \n",
    "    def _plot(self, axis):\n",
    "        axis.scatter(x=self.X[:, 0], y=self.X[:, 1], c=self.cluster)\n",
    "        \n",
    "X = np.array([[2, 3], [4, 5], [7, 7], [2, 7], [10, 2], [12, 2], [3, 2], [-3, 9], [0, 8], [1, 7], [4, 9], [-4, -3]])\n",
    "\n",
    "classifier = kMeansNumpy(3)\n",
    "classifier.fit(X)"
   ]
  },
  {
   "cell_type": "markdown",
   "id": "be541d36",
   "metadata": {},
   "source": [
    "### Build K-means from scratch using PySpark\n",
    "- this was asked during eBay interivew"
   ]
  },
  {
   "cell_type": "code",
   "execution_count": 15,
   "id": "c3ac87a7",
   "metadata": {},
   "outputs": [
    {
     "data": {
      "text/html": [
       "\n",
       "            <div>\n",
       "                <p><b>SparkSession - in-memory</b></p>\n",
       "                \n",
       "        <div>\n",
       "            <p><b>SparkContext</b></p>\n",
       "\n",
       "            <p><a href=\"http://DESKTOP-HOME.mshome.net:4040\">Spark UI</a></p>\n",
       "\n",
       "            <dl>\n",
       "              <dt>Version</dt>\n",
       "                <dd><code>v3.1.2</code></dd>\n",
       "              <dt>Master</dt>\n",
       "                <dd><code>local[*]</code></dd>\n",
       "              <dt>AppName</dt>\n",
       "                <dd><code>pyspark-shell</code></dd>\n",
       "            </dl>\n",
       "        </div>\n",
       "        \n",
       "            </div>\n",
       "        "
      ],
      "text/plain": [
       "<pyspark.sql.session.SparkSession at 0x1b87c44b4c0>"
      ]
     },
     "execution_count": 15,
     "metadata": {},
     "output_type": "execute_result"
    }
   ],
   "source": [
    "from pyspark.sql import SparkSession\n",
    "spark = SparkSession.builder.getOrCreate()\n",
    "spark"
   ]
  },
  {
   "cell_type": "code",
   "execution_count": null,
   "id": "5e6c1add",
   "metadata": {},
   "outputs": [],
   "source": [
    "class kMeansSpark:\n",
    "    def __init__(self, k):\n",
    "        self.k = k\n",
    "    \n",
    "    def _update_cluster(self):\n",
    "        pass\n",
    "    \n",
    "    def _assign_centriod(self):\n",
    "        pass\n",
    "    \n",
    "    def fit(self):\n",
    "        pass"
   ]
  },
  {
   "cell_type": "markdown",
   "id": "4d638db6",
   "metadata": {},
   "source": [
    "### Find k-closest points to origin\n",
    "- [leetcode source](https://leetcode.com/problems/k-closest-points-to-origin/)\n",
    "<p></p>\n",
    "- three solutions depending on problem scale: is $N$ very big? is $K$ big or small?\n",
    "<p></p>\n",
    "\n",
    "    a) use a priority queue to maintain a list of k points, $O(Nlog(k))$;\n",
    "    \n",
    "    b) apply sorting, $O(Nlog(N))$;\n",
    "    \n",
    "    c) apply kd tree, $O(Nlog(N))$ for the first time to generate the tree, search, insert, remove all takes $O(log(N))$.\n",
    "<p></p>\n",
    "- a good practice on heapq"
   ]
  },
  {
   "cell_type": "code",
   "execution_count": 9,
   "id": "d17aaac4",
   "metadata": {},
   "outputs": [
    {
     "name": "stdout",
     "output_type": "stream",
     "text": [
      "[[-2, 4], [3, 3]]\n",
      "[[3, 3], [-2, 4]]\n"
     ]
    }
   ],
   "source": [
    "import heapq\n",
    "\n",
    "def find_k_closest_heap(points, k):\n",
    "    candidates = []\n",
    "    for x, y in points:\n",
    "        dist = - x*x - y*y\n",
    "        if len(candidates) == k:\n",
    "            heapq.heappushpop(candidates, (dist, x, y))\n",
    "        else:\n",
    "            heapq.heappush(candidates, (dist, x, y))\n",
    "    \n",
    "    return [[x, y] for dist, x, y in candidates]\n",
    "\n",
    "\n",
    "from scipy import spatial\n",
    "\n",
    "def find_k_closest_kd_tree(points, k):\n",
    "    kd_tree = spatial.KDTree(points)\n",
    "    distance, idx = kd_tree.query(x=[0, 0], k=k, p=2)\n",
    "    if k > 1:\n",
    "        return [point for i, point in enumerate(points) if i in idx]\n",
    "    else:\n",
    "        return [points[idx]]\n",
    "print(find_k_closest_heap([[3,3],[5,-1],[-2,4]], 2))\n",
    "print(find_k_closest_kd_tree([[3,3],[5,-1],[-2,4]], 2))"
   ]
  },
  {
   "cell_type": "markdown",
   "id": "3288a1dd",
   "metadata": {},
   "source": [
    "### Inverse a matrix from scratch"
   ]
  },
  {
   "cell_type": "code",
   "execution_count": null,
   "id": "e32f1813",
   "metadata": {},
   "outputs": [],
   "source": []
  },
  {
   "cell_type": "markdown",
   "id": "81adfd20",
   "metadata": {},
   "source": [
    "### Check if a matrix is full rank"
   ]
  },
  {
   "cell_type": "code",
   "execution_count": null,
   "id": "5220332e",
   "metadata": {},
   "outputs": [],
   "source": []
  },
  {
   "cell_type": "markdown",
   "id": "a2a92a48",
   "metadata": {},
   "source": [
    "### Write Batch Normalization from scratch"
   ]
  },
  {
   "cell_type": "code",
   "execution_count": 8,
   "id": "0cd3db22",
   "metadata": {},
   "outputs": [
    {
     "data": {
      "text/plain": [
       "[0.25000062498828146,\n",
       " 0.27500031249414075,\n",
       " 0.3,\n",
       " 0.3249996875058592,\n",
       " 0.3499993750117185]"
      ]
     },
     "execution_count": 8,
     "metadata": {},
     "output_type": "execute_result"
    }
   ],
   "source": [
    "import math\n",
    "\n",
    "def batch_norm_dense(layer: list, epsilon: float, ita: float, beta: float):\n",
    "    total = sum(layer)\n",
    "    mu = total / len(layer)\n",
    "    sigma = 0\n",
    "    for ele in layer:\n",
    "        sigma += (ele-mu)**2\n",
    "    sigma /= len(layer)\n",
    "    \n",
    "    output = []\n",
    "    for ele in layer:\n",
    "        norm_ele = (ele - mu) / math.sqrt(sigma**2 + epsilon)\n",
    "        output.append(ita * norm_ele + beta)\n",
    "    return output\n",
    "\n",
    "batch_norm_dense([1,2,3,4,5], 0.0001, 0.05, 0.3)"
   ]
  },
  {
   "cell_type": "markdown",
   "id": "6dafb30e",
   "metadata": {},
   "source": [
    "### Calculate precision, recall, AUC"
   ]
  },
  {
   "cell_type": "code",
   "execution_count": 36,
   "id": "64422d63",
   "metadata": {},
   "outputs": [
    {
     "data": {
      "image/png": "[encoded data removed]",
      "text/plain": [
       "<Figure size 432x288 with 1 Axes>"
      ]
     },
     "metadata": {
      "needs_background": "light"
     },
     "output_type": "display_data"
    }
   ],
   "source": [
    "import matplotlib.pyplot as plt\n",
    "\n",
    "def get_metrics(pred, true, threshold=0.5):\n",
    "    pred_class = []\n",
    "    for ele in pred:\n",
    "        if ele >= threshold:\n",
    "            pred_class.append(1)\n",
    "        else:\n",
    "            pred_class.append(0)\n",
    "    \n",
    "    TP, FN = 0, 0\n",
    "    FP, TN = 0, 0\n",
    "    for p, t in zip(pred_class, true):\n",
    "        if t == 1:\n",
    "            if p == 1:\n",
    "                TP += 1\n",
    "            else:\n",
    "                FN += 1\n",
    "        else:\n",
    "            if p == 1:\n",
    "                FP += 1\n",
    "            else:\n",
    "                TN += 1\n",
    "    precision = TP / (TP + FP) if (TP+FP) else 1\n",
    "    recall = TP / (TP + FN) if (TP+FN) else 1\n",
    "    \n",
    "    return precision, recall\n",
    "\n",
    "def get_auc(pred, true):\n",
    "    auc_pair = []\n",
    "    plt.figure()\n",
    "    for i in range(1, 11):\n",
    "        auc_pair.append(get_metrics(pred, true, i/10))\n",
    "    \n",
    "    auc_pair.sort(key=lambda x: x[0])\n",
    "    plt.step(auc_pair[0], auc_pair[1])\n",
    "\n",
    "get_auc([0.7, 0.6, 0.3, 0.6, 0.1, 0.9], [1, 0, 0, 0, 1, 1])"
   ]
  },
  {
   "cell_type": "markdown",
   "id": "5a475143",
   "metadata": {},
   "source": [
    "## Algo Basics"
   ]
  },
  {
   "cell_type": "markdown",
   "id": "55fab6be",
   "metadata": {},
   "source": [
    "### Sorting"
   ]
  },
  {
   "cell_type": "code",
   "execution_count": null,
   "id": "ff9fcedb",
   "metadata": {},
   "outputs": [],
   "source": [
    "def quick_sort(nums):\n",
    "    "
   ]
  }
 ],
 "metadata": {
  "kernelspec": {
   "display_name": "Python 3",
   "language": "python",
   "name": "python3"
  },
  "language_info": {
   "codemirror_mode": {
    "name": "ipython",
    "version": 3
   },
   "file_extension": ".py",
   "mimetype": "text/x-python",
   "name": "python",
   "nbconvert_exporter": "python",
   "pygments_lexer": "ipython3",
   "version": "3.9.5"
  },
  "toc": {
   "base_numbering": 1,
   "nav_menu": {},
   "number_sections": true,
   "sideBar": true,
   "skip_h1_title": false,
   "title_cell": "Table of Contents",
   "title_sidebar": "Contents",
   "toc_cell": false,
   "toc_position": {},
   "toc_section_display": true,
   "toc_window_display": false
  },
  "varInspector": {
   "cols": {
    "lenName": 16,
    "lenType": 16,
    "lenVar": 40
   },
   "kernels_config": {
    "python": {
     "delete_cmd_postfix": "",
     "delete_cmd_prefix": "del ",
     "library": "var_list.py",
     "varRefreshCmd": "print(var_dic_list())"
    },
    "r": {
     "delete_cmd_postfix": ") ",
     "delete_cmd_prefix": "rm(",
     "library": "var_list.r",
     "varRefreshCmd": "cat(var_dic_list()) "
    }
   },
   "types_to_exclude": [
    "module",
    "function",
    "builtin_function_or_method",
    "instance",
    "_Feature"
   ],
   "window_display": false
  }
 },
 "nbformat": 4,
 "nbformat_minor": 5
}
